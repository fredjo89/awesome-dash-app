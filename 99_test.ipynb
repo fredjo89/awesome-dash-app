{
 "cells": [
  {
   "cell_type": "code",
   "execution_count": 2,
   "metadata": {},
   "outputs": [],
   "source": [
    "import pandas as pd\n",
    "\n",
    "from jaal.datasets import load_got\n",
    "\n",
    "df_edges, df_nodes = load_got()\n",
    "df_nodes = df_nodes.drop(columns=[\"node_image_url\"])\n",
    "df_nodes = df_nodes.sort_values(by=[\"screentime\"], ascending=False)\n",
    "df_edges = df_edges.sort_values(by=[\"weight\"], ascending=False)"
   ]
  },
  {
   "cell_type": "code",
   "execution_count": 15,
   "metadata": {},
   "outputs": [],
   "source": [
    "os.path.split(\"99_test.ipynb\")\n",
    "\n",
    "a = os.getcwd()\n",
    "\n",
    "data_directory = os.path.join(os.getcwd(), \"data\")\n",
    "\n",
    "nodes_df = pd.read_csv(os.path.join(data_directory, \"got_nodes.csv\"))\n",
    "edges_df = pd.read_csv(os.path.join(data_directory, \"got_edges.csv\"))\n",
    "\n",
    "import os\n",
    "\n",
    "\n",
    "def load_got():\n",
    "    data_directory = os.path.join(os.getcwd(), \"data\")\n",
    "\n",
    "    df_nodes = pd.read_csv(os.path.join(data_directory, \"got_nodes.csv\"))\n",
    "    df_edges = pd.read_csv(os.path.join(data_directory, \"got_edges.csv\"))\n",
    "\n",
    "    return df_nodes, df_edges\n",
    "\n",
    "\n",
    "df_nodes, df_edges = load_got()"
   ]
  },
  {
   "cell_type": "code",
   "execution_count": 3,
   "metadata": {},
   "outputs": [
    {
     "ename": "NameError",
     "evalue": "name '__file__' is not defined",
     "output_type": "error",
     "traceback": [
      "\u001b[0;31m---------------------------------------------------------------------------\u001b[0m",
      "\u001b[0;31mNameError\u001b[0m                                 Traceback (most recent call last)",
      "Cell \u001b[0;32mIn[3], line 23\u001b[0m\n\u001b[1;32m     20\u001b[0m     \u001b[39m# return \u001b[39;00m\n\u001b[1;32m     21\u001b[0m     \u001b[39mreturn\u001b[39;00m edge_df, node_df\n\u001b[0;32m---> 23\u001b[0m df_edges, df_nodes \u001b[39m=\u001b[39m load_got()\n",
      "Cell \u001b[0;32mIn[3], line 12\u001b[0m, in \u001b[0;36mload_got\u001b[0;34m(filter_conections_threshold)\u001b[0m\n\u001b[1;32m      4\u001b[0m \u001b[39m\u001b[39m\u001b[39m\"\"\"Load the first book of the Got Dataset\u001b[39;00m\n\u001b[1;32m      5\u001b[0m \n\u001b[1;32m      6\u001b[0m \u001b[39mParameters\u001b[39;00m\n\u001b[0;32m   (...)\u001b[0m\n\u001b[1;32m      9\u001b[0m \u001b[39m    keep the connections in GoT dataset with weights greater than this threshold \u001b[39;00m\n\u001b[1;32m     10\u001b[0m \u001b[39m\"\"\"\u001b[39;00m\n\u001b[1;32m     11\u001b[0m \u001b[39m# resolve path\u001b[39;00m\n\u001b[0;32m---> 12\u001b[0m this_dir, _ \u001b[39m=\u001b[39m os\u001b[39m.\u001b[39mpath\u001b[39m.\u001b[39msplit(\u001b[39m__file__\u001b[39;49m)\n\u001b[1;32m     14\u001b[0m a \u001b[39m=\u001b[39m os\u001b[39m.\u001b[39mpath\u001b[39m.\u001b[39mjoin(this_dir, \u001b[39m\"\u001b[39m\u001b[39mgot\u001b[39m\u001b[39m\"\u001b[39m, \u001b[39m\"\u001b[39m\u001b[39mgot_edge_df.csv\u001b[39m\u001b[39m\"\u001b[39m)\n\u001b[1;32m     15\u001b[0m \u001b[39mprint\u001b[39m(a)\n",
      "\u001b[0;31mNameError\u001b[0m: name '__file__' is not defined"
     ]
    }
   ],
   "source": [
    "import os\n",
    "\n",
    "\n",
    "def load_got(filter_conections_threshold=10):\n",
    "    \"\"\"Load the first book of the Got Dataset\n",
    "\n",
    "    Parameters\n",
    "    -----------\n",
    "    filter_conections_threshold: int\n",
    "        keep the connections in GoT dataset with weights greater than this threshold\n",
    "    \"\"\"\n",
    "    # resolve path\n",
    "    this_dir, _ = os.path.split(__file__)\n",
    "\n",
    "    a = os.path.join(this_dir, \"got\", \"got_edge_df.csv\")\n",
    "    print(a)\n",
    "\n",
    "    # load the edge and node data\n",
    "    edge_df = pd.read_csv(os.path.join(this_dir, \"got\", \"got_edge_df.csv\"))\n",
    "    node_df = pd.read_csv(os.path.join(this_dir, \"got\", \"got_node_df.csv\"))\n",
    "    # return\n",
    "    return edge_df, node_df\n",
    "\n",
    "\n",
    "df_edges, df_nodes = load_got()"
   ]
  }
 ],
 "metadata": {
  "kernelspec": {
   "display_name": "default",
   "language": "python",
   "name": "default"
  },
  "language_info": {
   "codemirror_mode": {
    "name": "ipython",
    "version": 3
   },
   "file_extension": ".py",
   "mimetype": "text/x-python",
   "name": "python",
   "nbconvert_exporter": "python",
   "pygments_lexer": "ipython3",
   "version": "3.11.3"
  },
  "orig_nbformat": 4
 },
 "nbformat": 4,
 "nbformat_minor": 2
}
