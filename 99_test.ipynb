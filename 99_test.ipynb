{
 "cells": [
  {
   "cell_type": "code",
   "execution_count": null,
   "metadata": {},
   "outputs": [],
   "source": [
    "import os\n",
    "\n",
    "\n",
    "def load_got(filter_conections_threshold=10):\n",
    "    \"\"\"Load the first book of the Got Dataset\n",
    "\n",
    "    Parameters\n",
    "    -----------\n",
    "    filter_conections_threshold: int\n",
    "        keep the connections in GoT dataset with weights greater than this threshold\n",
    "    \"\"\"\n",
    "    # resolve path\n",
    "    this_dir, _ = os.path.split(__file__)\n",
    "\n",
    "    a = os.path.join(this_dir, \"got\", \"got_edge_df.csv\")\n",
    "    print(a)\n",
    "\n",
    "    # load the edge and node data\n",
    "    edge_df = pd.read_csv(os.path.join(this_dir, \"got\", \"got_edge_df.csv\"))\n",
    "    node_df = pd.read_csv(os.path.join(this_dir, \"got\", \"got_node_df.csv\"))\n",
    "    # return\n",
    "    return edge_df, node_df\n",
    "\n",
    "\n",
    "df_edges, df_nodes = load_got()"
   ]
  }
 ],
 "metadata": {
  "kernelspec": {
   "display_name": "default",
   "language": "python",
   "name": "default"
  },
  "language_info": {
   "codemirror_mode": {
    "name": "ipython",
    "version": 3
   },
   "file_extension": ".py",
   "mimetype": "text/x-python",
   "name": "python",
   "nbconvert_exporter": "python",
   "pygments_lexer": "ipython3",
   "version": "3.11.3"
  },
  "orig_nbformat": 4
 },
 "nbformat": 4,
 "nbformat_minor": 2
}
